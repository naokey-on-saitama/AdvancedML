{
 "cells": [
  {
   "cell_type": "code",
   "execution_count": 31,
   "metadata": {},
   "outputs": [],
   "source": [
    "import numpy as np\n",
    "import tensorflow as tf\n",
    "import keras_tuner as kt\n",
    "\n",
    "from sklearn.metrics import accuracy_score\n",
    "from sklearn.model_selection import train_test_split\n",
    "from sklearn.preprocessing import OneHotEncoder\n",
    "\n",
    "from src.load_data import dataset\n",
    "from src.decorator import add_print"
   ]
  },
  {
   "cell_type": "code",
   "execution_count": 32,
   "metadata": {},
   "outputs": [
    {
     "name": "stderr",
     "output_type": "stream",
     "text": [
      "c:\\Users\\human\\OneDrive - 埼玉大学\\学部4年\\04_後期授業\\機械学習特論\\python\\env\\lib\\site-packages\\sklearn\\datasets\\_openml.py:1022: FutureWarning: The default value of `parser` will change from `'liac-arff'` to `'auto'` in 1.4. You can set `parser='auto'` to silence this warning. Therefore, an `ImportError` will be raised from 1.4 if the dataset is dense and pandas is not installed. Note that the pandas parser may return different data types. See the Notes Section in fetch_openml's API doc for details.\n",
      "  warn(\n",
      "c:\\Users\\human\\OneDrive - 埼玉大学\\学部4年\\04_後期授業\\機械学習特論\\python\\env\\lib\\site-packages\\sklearn\\datasets\\_openml.py:1022: FutureWarning: The default value of `parser` will change from `'liac-arff'` to `'auto'` in 1.4. You can set `parser='auto'` to silence this warning. Therefore, an `ImportError` will be raised from 1.4 if the dataset is dense and pandas is not installed. Note that the pandas parser may return different data types. See the Notes Section in fetch_openml's API doc for details.\n",
      "  warn(\n"
     ]
    },
    {
     "name": "stdout",
     "output_type": "stream",
     "text": [
      "(7000, 10)\n"
     ]
    }
   ],
   "source": [
    "# データセットの読み込み\n",
    "DATASET = dataset()\n",
    "print(DATASET[\"fashion-mnist\"][1].shape)"
   ]
  },
  {
   "cell_type": "markdown",
   "metadata": {},
   "source": [
    "### CNNのハイパーパラメータ\n",
    "- Dropout\n",
    "- Conv & MaxPool の数 (2 or 3)\n",
    "- Filter数\n",
    "- kernel_size (3 or 5)"
   ]
  },
  {
   "cell_type": "code",
   "execution_count": 33,
   "metadata": {},
   "outputs": [],
   "source": [
    "# CNNのチューニング用関数\n",
    "def cnn_bulder(hp: kt.HyperParameters) -> tf.keras.Model:\n",
    "    \n",
    "    hp_filters = hp.Int(\"num_filter\", min_value=16, max_value=129, step=16)\n",
    "    hp_kernel_size = hp.Choice(\"kernel_size\", values=[3, 5])\n",
    "    hp_rate = hp.Choice(\"dropout_rate\", values=[0.0, 0.1, 0.2])\n",
    "    \n",
    "    model = tf.keras.models.Sequential([\n",
    "        tf.keras.layers.Conv2D(hp_filters, kernel_size=hp_kernel_size, activation=\"relu\", input_shape=(28, 28, 1)),\n",
    "        tf.keras.layers.MaxPooling2D((2, 2)),\n",
    "        # tf.keras.layers.Conv2D(hp_filters, kernel_size=hp_kernel_size, activation=\"relu\"),\n",
    "        # tf.keras.layers.MaxPooling2D((2, 2)),\n",
    "        # tf.keras.layers.Conv2D(hp_filters, kernel_size=hp_kernel_size, activation=\"relu\"),\n",
    "        tf.keras.layers.Dropout(hp_rate),\n",
    "        tf.keras.layers.Flatten(),\n",
    "        tf.keras.layers.Dense(10, activation=\"softmax\")\n",
    "    ])\n",
    "    \n",
    "\n",
    "    loss = tf.keras.losses.CategoricalCrossentropy()\n",
    "    model.compile(optimizer=\"adam\", loss=loss, metrics=[\"accuracy\"])\n",
    "    \n",
    "    return model"
   ]
  },
  {
   "cell_type": "markdown",
   "metadata": {},
   "source": [
    "## Fasion-MNIST\n",
    "### MLP"
   ]
  },
  {
   "cell_type": "code",
   "execution_count": 34,
   "metadata": {},
   "outputs": [],
   "source": [
    "dataname = \"fashion-mnist\"\n",
    "ds_x, ds_y = DATASET[dataname]\n",
    "train_x, test_x, train_y, test_y = train_test_split(ds_x, ds_y, test_size=0.25, random_state=1, stratify=ds_y)"
   ]
  },
  {
   "cell_type": "code",
   "execution_count": 35,
   "metadata": {},
   "outputs": [
    {
     "name": "stdout",
     "output_type": "stream",
     "text": [
      "Trial 30 Complete [00h 00m 16s]\n",
      "val_accuracy: 0.8571428656578064\n",
      "\n",
      "Best val_accuracy So Far: 0.8819047808647156\n",
      "Total elapsed time: 00h 06m 15s\n"
     ]
    }
   ],
   "source": [
    "tf.random.set_seed(42)\n",
    "\n",
    "# 学習\n",
    "mlp_tuner = kt.Hyperband(\n",
    "    cnn_bulder,\n",
    "    objective=\"val_accuracy\",\n",
    "    max_epochs=10,\n",
    "    factor=3,\n",
    "    directory=\"C://Users/human/Downloads\",\n",
    "    project_name=\"fashion_cnn3\"\n",
    ")\n",
    "\n",
    "stop_early = tf.keras.callbacks.EarlyStopping(monitor='val_loss', patience=5)\n",
    "mlp_tuner.search(train_x, train_y, epochs=50, validation_split=0.2, callbacks=[stop_early])"
   ]
  },
  {
   "cell_type": "markdown",
   "metadata": {},
   "source": [
    "## ベストパラメータメモ\n",
    "**Filter & Kernel** (path: fashion_tuner(`C://users/human/Downloads/fashion_tuner`))\n",
    "\n",
    "| params | value |\n",
    "| -- | -- |\n",
    "| Num Filter | 128 |\n",
    "| Kernel size | 3 |\n",
    "| Train (50 epochs) | 5m 39.8s |\n",
    "| Test accuracy | 0.8451428571428572 |\n",
    "\n",
    "**Filter & Kernel & Dropout** (path: fashion_cnn2(`C://users/human/Downloads/fashion_cnn2`))\n",
    "\n",
    "| params | value |\n",
    "| -- | -- |\n",
    "| Num Filter |  |\n",
    "| Kernel size |  |\n",
    "| Dropout rate |  |\n",
    "| Train (20 epochs) | Xm Xs |"
   ]
  },
  {
   "cell_type": "code",
   "execution_count": 36,
   "metadata": {},
   "outputs": [
    {
     "name": "stdout",
     "output_type": "stream",
     "text": [
      "\n",
      "==============================\n",
      "\n",
      "Num filter: 80\n",
      "Kernel size: 3\n",
      "Dropout rate: 0.1\n",
      "\n",
      "==============================\n",
      "\n"
     ]
    }
   ],
   "source": [
    "best_hps = mlp_tuner.get_best_hyperparameters(num_trials=1)[0]\n",
    "\n",
    "@add_print()\n",
    "def print_best_hps():\n",
    "    print(\"Num filter:\", best_hps.get(\"num_filter\"))\n",
    "    print(\"Kernel size:\", best_hps.get(\"kernel_size\"))\n",
    "    print(\"Dropout rate:\", best_hps.get(\"dropout_rate\"))\n",
    "print_best_hps()"
   ]
  },
  {
   "cell_type": "markdown",
   "metadata": {},
   "source": [
    "#### チューニング結果からモデルを作成"
   ]
  },
  {
   "cell_type": "code",
   "execution_count": 37,
   "metadata": {},
   "outputs": [
    {
     "name": "stdout",
     "output_type": "stream",
     "text": [
      "Epoch 1/20\n",
      "129/132 [============================>.] - ETA: 0s - loss: 0.8097 - accuracy: 0.7125INFO:tensorflow:Assets written to: C://Users/human/Downloads\\fashion_cnn2_checkpoint/assets\n"
     ]
    },
    {
     "name": "stderr",
     "output_type": "stream",
     "text": [
      "INFO:tensorflow:Assets written to: C://Users/human/Downloads\\fashion_cnn2_checkpoint/assets\n"
     ]
    },
    {
     "name": "stdout",
     "output_type": "stream",
     "text": [
      "132/132 [==============================] - 5s 33ms/step - loss: 0.8064 - accuracy: 0.7138 - val_loss: 0.5565 - val_accuracy: 0.8010\n",
      "Epoch 2/20\n",
      "131/132 [============================>.] - ETA: 0s - loss: 0.5034 - accuracy: 0.8161INFO:tensorflow:Assets written to: C://Users/human/Downloads\\fashion_cnn2_checkpoint/assets\n"
     ]
    },
    {
     "name": "stderr",
     "output_type": "stream",
     "text": [
      "INFO:tensorflow:Assets written to: C://Users/human/Downloads\\fashion_cnn2_checkpoint/assets\n"
     ]
    },
    {
     "name": "stdout",
     "output_type": "stream",
     "text": [
      "132/132 [==============================] - 4s 30ms/step - loss: 0.5027 - accuracy: 0.8164 - val_loss: 0.4960 - val_accuracy: 0.8267\n",
      "Epoch 3/20\n",
      "129/132 [============================>.] - ETA: 0s - loss: 0.4173 - accuracy: 0.8551INFO:tensorflow:Assets written to: C://Users/human/Downloads\\fashion_cnn2_checkpoint/assets\n"
     ]
    },
    {
     "name": "stderr",
     "output_type": "stream",
     "text": [
      "INFO:tensorflow:Assets written to: C://Users/human/Downloads\\fashion_cnn2_checkpoint/assets\n"
     ]
    },
    {
     "name": "stdout",
     "output_type": "stream",
     "text": [
      "132/132 [==============================] - 4s 28ms/step - loss: 0.4153 - accuracy: 0.8560 - val_loss: 0.4489 - val_accuracy: 0.8333\n",
      "Epoch 4/20\n",
      "129/132 [============================>.] - ETA: 0s - loss: 0.3618 - accuracy: 0.8748INFO:tensorflow:Assets written to: C://Users/human/Downloads\\fashion_cnn2_checkpoint/assets\n"
     ]
    },
    {
     "name": "stderr",
     "output_type": "stream",
     "text": [
      "INFO:tensorflow:Assets written to: C://Users/human/Downloads\\fashion_cnn2_checkpoint/assets\n"
     ]
    },
    {
     "name": "stdout",
     "output_type": "stream",
     "text": [
      "132/132 [==============================] - 4s 28ms/step - loss: 0.3614 - accuracy: 0.8755 - val_loss: 0.4488 - val_accuracy: 0.8371\n",
      "Epoch 5/20\n",
      "131/132 [============================>.] - ETA: 0s - loss: 0.3272 - accuracy: 0.8824INFO:tensorflow:Assets written to: C://Users/human/Downloads\\fashion_cnn2_checkpoint/assets\n"
     ]
    },
    {
     "name": "stderr",
     "output_type": "stream",
     "text": [
      "INFO:tensorflow:Assets written to: C://Users/human/Downloads\\fashion_cnn2_checkpoint/assets\n"
     ]
    },
    {
     "name": "stdout",
     "output_type": "stream",
     "text": [
      "132/132 [==============================] - 4s 28ms/step - loss: 0.3270 - accuracy: 0.8824 - val_loss: 0.4051 - val_accuracy: 0.8581\n",
      "Epoch 6/20\n",
      "132/132 [==============================] - 3s 25ms/step - loss: 0.2967 - accuracy: 0.8976 - val_loss: 0.4080 - val_accuracy: 0.8581\n",
      "Epoch 7/20\n",
      "132/132 [==============================] - 3s 25ms/step - loss: 0.2657 - accuracy: 0.9088 - val_loss: 0.3942 - val_accuracy: 0.8571\n",
      "Epoch 8/20\n",
      "132/132 [==============================] - 4s 27ms/step - loss: 0.2420 - accuracy: 0.9152 - val_loss: 0.4024 - val_accuracy: 0.8476\n",
      "Epoch 9/20\n",
      "130/132 [============================>.] - ETA: 0s - loss: 0.2261 - accuracy: 0.9260INFO:tensorflow:Assets written to: C://Users/human/Downloads\\fashion_cnn2_checkpoint/assets\n"
     ]
    },
    {
     "name": "stderr",
     "output_type": "stream",
     "text": [
      "INFO:tensorflow:Assets written to: C://Users/human/Downloads\\fashion_cnn2_checkpoint/assets\n"
     ]
    },
    {
     "name": "stdout",
     "output_type": "stream",
     "text": [
      "132/132 [==============================] - 4s 29ms/step - loss: 0.2259 - accuracy: 0.9257 - val_loss: 0.3903 - val_accuracy: 0.8619\n",
      "Epoch 10/20\n",
      "131/132 [============================>.] - ETA: 0s - loss: 0.2056 - accuracy: 0.9323INFO:tensorflow:Assets written to: C://Users/human/Downloads\\fashion_cnn2_checkpoint/assets\n"
     ]
    },
    {
     "name": "stderr",
     "output_type": "stream",
     "text": [
      "INFO:tensorflow:Assets written to: C://Users/human/Downloads\\fashion_cnn2_checkpoint/assets\n"
     ]
    },
    {
     "name": "stdout",
     "output_type": "stream",
     "text": [
      "132/132 [==============================] - 4s 29ms/step - loss: 0.2053 - accuracy: 0.9324 - val_loss: 0.3925 - val_accuracy: 0.8705\n",
      "Epoch 11/20\n",
      "132/132 [==============================] - 3s 25ms/step - loss: 0.1891 - accuracy: 0.9352 - val_loss: 0.4014 - val_accuracy: 0.8638\n",
      "Epoch 12/20\n",
      "132/132 [==============================] - 3s 26ms/step - loss: 0.1771 - accuracy: 0.9412 - val_loss: 0.3971 - val_accuracy: 0.8638\n",
      "Epoch 13/20\n",
      "131/132 [============================>.] - ETA: 0s - loss: 0.1678 - accuracy: 0.9461INFO:tensorflow:Assets written to: C://Users/human/Downloads\\fashion_cnn2_checkpoint/assets\n"
     ]
    },
    {
     "name": "stderr",
     "output_type": "stream",
     "text": [
      "INFO:tensorflow:Assets written to: C://Users/human/Downloads\\fashion_cnn2_checkpoint/assets\n"
     ]
    },
    {
     "name": "stdout",
     "output_type": "stream",
     "text": [
      "132/132 [==============================] - 4s 28ms/step - loss: 0.1675 - accuracy: 0.9462 - val_loss: 0.3879 - val_accuracy: 0.8733\n",
      "Epoch 14/20\n",
      "132/132 [==============================] - 3s 25ms/step - loss: 0.1569 - accuracy: 0.9507 - val_loss: 0.4195 - val_accuracy: 0.8552\n",
      "Epoch 15/20\n",
      "132/132 [==============================] - 3s 24ms/step - loss: 0.1431 - accuracy: 0.9533 - val_loss: 0.4496 - val_accuracy: 0.8600\n",
      "Epoch 16/20\n",
      "132/132 [==============================] - 3s 25ms/step - loss: 0.1333 - accuracy: 0.9581 - val_loss: 0.4223 - val_accuracy: 0.8629\n",
      "Epoch 17/20\n",
      "132/132 [==============================] - 3s 26ms/step - loss: 0.1240 - accuracy: 0.9605 - val_loss: 0.4216 - val_accuracy: 0.8724\n",
      "Epoch 18/20\n",
      "132/132 [==============================] - 3s 26ms/step - loss: 0.1106 - accuracy: 0.9667 - val_loss: 0.4270 - val_accuracy: 0.8705\n",
      "Epoch 19/20\n",
      "132/132 [==============================] - 3s 25ms/step - loss: 0.1136 - accuracy: 0.9652 - val_loss: 0.4495 - val_accuracy: 0.8590\n",
      "Epoch 20/20\n",
      "132/132 [==============================] - 3s 24ms/step - loss: 0.1095 - accuracy: 0.9662 - val_loss: 0.4591 - val_accuracy: 0.8657\n"
     ]
    }
   ],
   "source": [
    "# ベストエポックを保存\n",
    "checkpoint_filepath = \"C://Users/human/Downloads/fashion_cnn2_checkpoint\"\n",
    "model_checkpoint_callback = tf.keras.callbacks.ModelCheckpoint(\n",
    "    filepath=checkpoint_filepath,\n",
    "    monitor=\"val_accuracy\",\n",
    "    mode=\"max\",\n",
    "    save_best_only=True\n",
    ")\n",
    "\n",
    "best_mlp_model = mlp_tuner.hypermodel.build(best_hps)\n",
    "mlp_history = best_mlp_model.fit(train_x, train_y, epochs=20, validation_split=0.2, callbacks=[model_checkpoint_callback])"
   ]
  },
  {
   "cell_type": "code",
   "execution_count": 38,
   "metadata": {},
   "outputs": [
    {
     "data": {
      "image/png": "[encoded data removed]",
      "text/plain": [
       "<IPython.core.display.Image object>"
      ]
     },
     "execution_count": 38,
     "metadata": {},
     "output_type": "execute_result"
    }
   ],
   "source": [
    "# モデルを描画\n",
    "tf.keras.utils.plot_model(\n",
    "    best_mlp_model, \n",
    "    show_shapes=True, \n",
    "    show_layer_names=False, \n",
    "    show_layer_activations=True\n",
    ")"
   ]
  },
  {
   "cell_type": "code",
   "execution_count": 39,
   "metadata": {},
   "outputs": [
    {
     "name": "stdout",
     "output_type": "stream",
     "text": [
      "Model: \"sequential_1\"\n",
      "_________________________________________________________________\n",
      " Layer (type)                Output Shape              Param #   \n",
      "=================================================================\n",
      " conv2d_1 (Conv2D)           (None, 26, 26, 80)        800       \n",
      "                                                                 \n",
      " max_pooling2d_1 (MaxPoolin  (None, 13, 13, 80)        0         \n",
      " g2D)                                                            \n",
      "                                                                 \n",
      " dropout_1 (Dropout)         (None, 13, 13, 80)        0         \n",
      "                                                                 \n",
      " flatten_1 (Flatten)         (None, 13520)             0         \n",
      "                                                                 \n",
      " dense_1 (Dense)             (None, 10)                135210    \n",
      "                                                                 \n",
      "=================================================================\n",
      "Total params: 136010 (531.29 KB)\n",
      "Trainable params: 136010 (531.29 KB)\n",
      "Non-trainable params: 0 (0.00 Byte)\n",
      "_________________________________________________________________\n"
     ]
    }
   ],
   "source": [
    "best_epoch_model = tf.keras.models.load_model(checkpoint_filepath)\n",
    "best_epoch_model.summary()"
   ]
  },
  {
   "cell_type": "code",
   "execution_count": 40,
   "metadata": {},
   "outputs": [
    {
     "name": "stdout",
     "output_type": "stream",
     "text": [
      "55/55 [==============================] - 0s 6ms/step\n",
      "\n",
      "~~~~~~~~~~~~~~~~~~~~\n",
      "\n",
      "Test accuracy: 0.8502857142857143\n",
      "\n",
      "~~~~~~~~~~~~~~~~~~~~\n",
      "\n"
     ]
    }
   ],
   "source": [
    "pred_y = best_epoch_model.predict(test_x)\n",
    "pred_y = np.round(pred_y).astype(int)\n",
    "\n",
    "@add_print(\"~\", 20)\n",
    "def print_accuracy():\n",
    "    print(\"Test accuracy:\", accuracy_score(pred_y, test_y))\n",
    "print_accuracy()"
   ]
  },
  {
   "cell_type": "code",
   "execution_count": null,
   "metadata": {},
   "outputs": [],
   "source": []
  }
 ],
 "metadata": {
  "kernelspec": {
   "display_name": "env",
   "language": "python",
   "name": "python3"
  },
  "language_info": {
   "codemirror_mode": {
    "name": "ipython",
    "version": 3
   },
   "file_extension": ".py",
   "mimetype": "text/x-python",
   "name": "python",
   "nbconvert_exporter": "python",
   "pygments_lexer": "ipython3",
   "version": "3.9.9"
  }
 },
 "nbformat": 4,
 "nbformat_minor": 2
}
