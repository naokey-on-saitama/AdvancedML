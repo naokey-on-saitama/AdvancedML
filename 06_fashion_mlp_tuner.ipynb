{
 "cells": [
  {
   "cell_type": "code",
   "execution_count": 1,
   "metadata": {},
   "outputs": [],
   "source": [
    "import numpy as np\n",
    "import tensorflow as tf\n",
    "import keras_tuner as kt\n",
    "\n",
    "from sklearn.metrics import accuracy_score\n",
    "from sklearn.model_selection import train_test_split\n",
    "from sklearn.preprocessing import OneHotEncoder\n",
    "\n",
    "from src.load_data import dataset\n",
    "from src.decorator import add_print"
   ]
  },
  {
   "cell_type": "code",
   "execution_count": 2,
   "metadata": {},
   "outputs": [
    {
     "name": "stderr",
     "output_type": "stream",
     "text": [
      "c:\\Users\\human\\OneDrive - 埼玉大学\\学部4年\\04_後期授業\\機械学習特論\\python\\env\\lib\\site-packages\\sklearn\\datasets\\_openml.py:1022: FutureWarning: The default value of `parser` will change from `'liac-arff'` to `'auto'` in 1.4. You can set `parser='auto'` to silence this warning. Therefore, an `ImportError` will be raised from 1.4 if the dataset is dense and pandas is not installed. Note that the pandas parser may return different data types. See the Notes Section in fetch_openml's API doc for details.\n",
      "  warn(\n",
      "c:\\Users\\human\\OneDrive - 埼玉大学\\学部4年\\04_後期授業\\機械学習特論\\python\\env\\lib\\site-packages\\sklearn\\datasets\\_openml.py:1022: FutureWarning: The default value of `parser` will change from `'liac-arff'` to `'auto'` in 1.4. You can set `parser='auto'` to silence this warning. Therefore, an `ImportError` will be raised from 1.4 if the dataset is dense and pandas is not installed. Note that the pandas parser may return different data types. See the Notes Section in fetch_openml's API doc for details.\n",
      "  warn(\n"
     ]
    },
    {
     "name": "stdout",
     "output_type": "stream",
     "text": [
      "(7000, 10)\n"
     ]
    }
   ],
   "source": [
    "# データセットの読み込み\n",
    "DATASET = dataset()\n",
    "print(DATASET[\"fashion-mnist\"][1].shape)"
   ]
  },
  {
   "cell_type": "code",
   "execution_count": 3,
   "metadata": {},
   "outputs": [],
   "source": [
    "# MLPのチューニング用関数\n",
    "def mlp_bulder(hp: kt.HyperParameters) -> tf.keras.Model:\n",
    "    hp_units = hp.Int(\"units\", min_value=8, max_value=129, step=8)\n",
    "    hp_layers = hp.Int(\"layers\", min_value=2, max_value=11, step=2)\n",
    "    \n",
    "    model = tf.keras.Sequential()\n",
    "    model.add(tf.keras.layers.Flatten())\n",
    "    for _ in range(hp_layers):\n",
    "        model.add(tf.keras.layers.Dense(units=hp_units, activation=\"relu\"))\n",
    "    model.add(tf.keras.layers.Dense(10, activation=\"softmax\"))\n",
    "\n",
    "    loss = tf.keras.losses.CategoricalCrossentropy()\n",
    "    model.compile(optimizer=\"adam\", loss=loss, metrics=[\"accuracy\"])\n",
    "    \n",
    "    return model"
   ]
  },
  {
   "cell_type": "markdown",
   "metadata": {},
   "source": [
    "## Fasion-MNIST\n",
    "### MLP"
   ]
  },
  {
   "cell_type": "code",
   "execution_count": 9,
   "metadata": {},
   "outputs": [],
   "source": [
    "dataname = \"fashion-mnist\"\n",
    "ds_x, ds_y = DATASET[dataname]\n",
    "train_x, test_x, train_y, test_y = train_test_split(ds_x, ds_y, test_size=0.25, random_state=1)"
   ]
  },
  {
   "cell_type": "code",
   "execution_count": 10,
   "metadata": {},
   "outputs": [
    {
     "name": "stdout",
     "output_type": "stream",
     "text": [
      "Trial 26 Complete [00h 00m 03s]\n",
      "val_accuracy: 0.8257142901420593\n",
      "\n",
      "Best val_accuracy So Far: 0.8523809313774109\n",
      "Total elapsed time: 00h 01m 52s\n"
     ]
    }
   ],
   "source": [
    "tf.random.set_seed(42)\n",
    "\n",
    "# 多層パーセプトロンの学習\n",
    "mlp_tuner = kt.Hyperband(\n",
    "    mlp_bulder,\n",
    "    objective=\"val_accuracy\",\n",
    "    max_epochs=10,\n",
    "    factor=3,\n",
    "    directory=\"C://Users/human/Downloads\",\n",
    "    project_name=\"fashion_tuner\"\n",
    ")\n",
    "\n",
    "stop_early = tf.keras.callbacks.EarlyStopping(monitor='val_loss', patience=5)\n",
    "mlp_tuner.search(train_x, train_y, epochs=50, validation_split=0.2, callbacks=[stop_early])"
   ]
  },
  {
   "cell_type": "code",
   "execution_count": 11,
   "metadata": {},
   "outputs": [
    {
     "name": "stdout",
     "output_type": "stream",
     "text": [
      "\n",
      "==============================\n",
      "\n",
      "units: 96\n",
      "layers: 4\n",
      "\n",
      "==============================\n",
      "\n"
     ]
    }
   ],
   "source": [
    "best_hps = mlp_tuner.get_best_hyperparameters(num_trials=1)[0]\n",
    "\n",
    "@add_print()\n",
    "def print_best_hps():\n",
    "    print(\"units:\", best_hps.get(\"units\"))\n",
    "    print(\"layers:\", best_hps.get(\"layers\"))\n",
    "print_best_hps()"
   ]
  },
  {
   "cell_type": "markdown",
   "metadata": {},
   "source": [
    "#### チューニング結果からモデルを作成"
   ]
  },
  {
   "cell_type": "code",
   "execution_count": 12,
   "metadata": {},
   "outputs": [
    {
     "name": "stdout",
     "output_type": "stream",
     "text": [
      "Epoch 1/50\n",
      "132/132 [==============================] - ETA: 0s - loss: 0.9974 - accuracy: 0.6410INFO:tensorflow:Assets written to: C://Users/human/Downloads\\checkpoint/assets\n"
     ]
    },
    {
     "name": "stderr",
     "output_type": "stream",
     "text": [
      "INFO:tensorflow:Assets written to: C://Users/human/Downloads\\checkpoint/assets\n"
     ]
    },
    {
     "name": "stdout",
     "output_type": "stream",
     "text": [
      "132/132 [==============================] - 2s 8ms/step - loss: 0.9974 - accuracy: 0.6410 - val_loss: 0.7228 - val_accuracy: 0.7476\n",
      "Epoch 2/50\n",
      "111/132 [========================>.....] - ETA: 0s - loss: 0.6157 - accuracy: 0.7717INFO:tensorflow:Assets written to: C://Users/human/Downloads\\checkpoint/assets\n"
     ]
    },
    {
     "name": "stderr",
     "output_type": "stream",
     "text": [
      "INFO:tensorflow:Assets written to: C://Users/human/Downloads\\checkpoint/assets\n"
     ]
    },
    {
     "name": "stdout",
     "output_type": "stream",
     "text": [
      "132/132 [==============================] - 1s 6ms/step - loss: 0.5988 - accuracy: 0.7783 - val_loss: 0.5911 - val_accuracy: 0.7867\n",
      "Epoch 3/50\n",
      "110/132 [========================>.....] - ETA: 0s - loss: 0.5162 - accuracy: 0.8119INFO:tensorflow:Assets written to: C://Users/human/Downloads\\checkpoint/assets\n"
     ]
    },
    {
     "name": "stderr",
     "output_type": "stream",
     "text": [
      "INFO:tensorflow:Assets written to: C://Users/human/Downloads\\checkpoint/assets\n"
     ]
    },
    {
     "name": "stdout",
     "output_type": "stream",
     "text": [
      "132/132 [==============================] - 1s 7ms/step - loss: 0.5094 - accuracy: 0.8169 - val_loss: 0.5712 - val_accuracy: 0.7924\n",
      "Epoch 4/50\n",
      "126/132 [===========================>..] - ETA: 0s - loss: 0.4614 - accuracy: 0.8316INFO:tensorflow:Assets written to: C://Users/human/Downloads\\checkpoint/assets\n"
     ]
    },
    {
     "name": "stderr",
     "output_type": "stream",
     "text": [
      "INFO:tensorflow:Assets written to: C://Users/human/Downloads\\checkpoint/assets\n"
     ]
    },
    {
     "name": "stdout",
     "output_type": "stream",
     "text": [
      "132/132 [==============================] - 1s 6ms/step - loss: 0.4604 - accuracy: 0.8310 - val_loss: 0.5378 - val_accuracy: 0.8210\n",
      "Epoch 5/50\n",
      "132/132 [==============================] - 0s 2ms/step - loss: 0.4458 - accuracy: 0.8357 - val_loss: 0.5169 - val_accuracy: 0.8076\n",
      "Epoch 6/50\n",
      "132/132 [==============================] - 0s 2ms/step - loss: 0.4070 - accuracy: 0.8460 - val_loss: 0.5712 - val_accuracy: 0.8124\n",
      "Epoch 7/50\n",
      "112/132 [========================>.....] - ETA: 0s - loss: 0.3787 - accuracy: 0.8627INFO:tensorflow:Assets written to: C://Users/human/Downloads\\checkpoint/assets\n"
     ]
    },
    {
     "name": "stderr",
     "output_type": "stream",
     "text": [
      "INFO:tensorflow:Assets written to: C://Users/human/Downloads\\checkpoint/assets\n"
     ]
    },
    {
     "name": "stdout",
     "output_type": "stream",
     "text": [
      "132/132 [==============================] - 1s 7ms/step - loss: 0.3692 - accuracy: 0.8648 - val_loss: 0.5376 - val_accuracy: 0.8219\n",
      "Epoch 8/50\n",
      "110/132 [========================>.....] - ETA: 0s - loss: 0.3537 - accuracy: 0.8670INFO:tensorflow:Assets written to: C://Users/human/Downloads\\checkpoint/assets\n"
     ]
    },
    {
     "name": "stderr",
     "output_type": "stream",
     "text": [
      "INFO:tensorflow:Assets written to: C://Users/human/Downloads\\checkpoint/assets\n"
     ]
    },
    {
     "name": "stdout",
     "output_type": "stream",
     "text": [
      "132/132 [==============================] - 1s 6ms/step - loss: 0.3542 - accuracy: 0.8679 - val_loss: 0.5038 - val_accuracy: 0.8400\n",
      "Epoch 9/50\n",
      "132/132 [==============================] - 0s 2ms/step - loss: 0.3256 - accuracy: 0.8798 - val_loss: 0.4865 - val_accuracy: 0.8352\n",
      "Epoch 10/50\n",
      "132/132 [==============================] - 0s 2ms/step - loss: 0.3163 - accuracy: 0.8845 - val_loss: 0.5112 - val_accuracy: 0.8333\n",
      "Epoch 11/50\n",
      "126/132 [===========================>..] - ETA: 0s - loss: 0.3102 - accuracy: 0.8849INFO:tensorflow:Assets written to: C://Users/human/Downloads\\checkpoint/assets\n"
     ]
    },
    {
     "name": "stderr",
     "output_type": "stream",
     "text": [
      "INFO:tensorflow:Assets written to: C://Users/human/Downloads\\checkpoint/assets\n"
     ]
    },
    {
     "name": "stdout",
     "output_type": "stream",
     "text": [
      "132/132 [==============================] - 1s 6ms/step - loss: 0.3106 - accuracy: 0.8838 - val_loss: 0.5149 - val_accuracy: 0.8495\n",
      "Epoch 12/50\n",
      "132/132 [==============================] - 0s 2ms/step - loss: 0.2949 - accuracy: 0.8936 - val_loss: 0.4887 - val_accuracy: 0.8410\n",
      "Epoch 13/50\n",
      "132/132 [==============================] - 0s 2ms/step - loss: 0.2602 - accuracy: 0.9048 - val_loss: 0.4942 - val_accuracy: 0.8352\n",
      "Epoch 14/50\n",
      "119/132 [==========================>...] - ETA: 0s - loss: 0.2474 - accuracy: 0.9110INFO:tensorflow:Assets written to: C://Users/human/Downloads\\checkpoint/assets\n"
     ]
    },
    {
     "name": "stderr",
     "output_type": "stream",
     "text": [
      "INFO:tensorflow:Assets written to: C://Users/human/Downloads\\checkpoint/assets\n"
     ]
    },
    {
     "name": "stdout",
     "output_type": "stream",
     "text": [
      "132/132 [==============================] - 1s 6ms/step - loss: 0.2459 - accuracy: 0.9110 - val_loss: 0.4924 - val_accuracy: 0.8590\n",
      "Epoch 15/50\n",
      "132/132 [==============================] - 0s 2ms/step - loss: 0.2518 - accuracy: 0.9083 - val_loss: 0.4860 - val_accuracy: 0.8467\n",
      "Epoch 16/50\n",
      "132/132 [==============================] - 0s 3ms/step - loss: 0.2310 - accuracy: 0.9169 - val_loss: 0.5791 - val_accuracy: 0.8276\n",
      "Epoch 17/50\n",
      "132/132 [==============================] - 0s 2ms/step - loss: 0.2273 - accuracy: 0.9138 - val_loss: 0.5229 - val_accuracy: 0.8505\n",
      "Epoch 18/50\n",
      "132/132 [==============================] - 0s 2ms/step - loss: 0.2197 - accuracy: 0.9186 - val_loss: 0.5349 - val_accuracy: 0.8495\n",
      "Epoch 19/50\n",
      "132/132 [==============================] - 0s 2ms/step - loss: 0.1905 - accuracy: 0.9255 - val_loss: 0.6004 - val_accuracy: 0.8295\n",
      "Epoch 20/50\n",
      "132/132 [==============================] - 0s 2ms/step - loss: 0.1986 - accuracy: 0.9281 - val_loss: 0.6189 - val_accuracy: 0.8114\n",
      "Epoch 21/50\n",
      "132/132 [==============================] - 0s 2ms/step - loss: 0.1926 - accuracy: 0.9298 - val_loss: 0.5820 - val_accuracy: 0.8381\n",
      "Epoch 22/50\n",
      "132/132 [==============================] - 0s 2ms/step - loss: 0.1863 - accuracy: 0.9338 - val_loss: 0.5763 - val_accuracy: 0.8381\n",
      "Epoch 23/50\n",
      "132/132 [==============================] - 0s 2ms/step - loss: 0.1812 - accuracy: 0.9302 - val_loss: 0.6050 - val_accuracy: 0.8371\n",
      "Epoch 24/50\n",
      "132/132 [==============================] - 0s 2ms/step - loss: 0.1697 - accuracy: 0.9371 - val_loss: 0.5641 - val_accuracy: 0.8343\n",
      "Epoch 25/50\n",
      "132/132 [==============================] - 0s 2ms/step - loss: 0.1846 - accuracy: 0.9286 - val_loss: 0.5968 - val_accuracy: 0.8419\n",
      "Epoch 26/50\n",
      "132/132 [==============================] - 0s 2ms/step - loss: 0.1330 - accuracy: 0.9519 - val_loss: 0.6334 - val_accuracy: 0.8419\n",
      "Epoch 27/50\n",
      "132/132 [==============================] - 0s 2ms/step - loss: 0.1368 - accuracy: 0.9481 - val_loss: 0.6466 - val_accuracy: 0.8429\n",
      "Epoch 28/50\n",
      "132/132 [==============================] - 0s 2ms/step - loss: 0.1175 - accuracy: 0.9579 - val_loss: 0.7027 - val_accuracy: 0.8438\n",
      "Epoch 29/50\n",
      "132/132 [==============================] - 0s 2ms/step - loss: 0.1394 - accuracy: 0.9498 - val_loss: 0.6349 - val_accuracy: 0.8333\n",
      "Epoch 30/50\n",
      "132/132 [==============================] - 0s 2ms/step - loss: 0.1110 - accuracy: 0.9600 - val_loss: 0.6478 - val_accuracy: 0.8524\n",
      "Epoch 31/50\n",
      "132/132 [==============================] - 0s 2ms/step - loss: 0.1200 - accuracy: 0.9552 - val_loss: 0.6327 - val_accuracy: 0.8457\n",
      "Epoch 32/50\n",
      "132/132 [==============================] - 0s 2ms/step - loss: 0.1183 - accuracy: 0.9579 - val_loss: 0.6769 - val_accuracy: 0.8438\n",
      "Epoch 33/50\n",
      "132/132 [==============================] - 0s 2ms/step - loss: 0.1000 - accuracy: 0.9614 - val_loss: 0.8195 - val_accuracy: 0.8286\n",
      "Epoch 34/50\n",
      "132/132 [==============================] - 0s 2ms/step - loss: 0.1338 - accuracy: 0.9510 - val_loss: 0.6930 - val_accuracy: 0.8448\n",
      "Epoch 35/50\n",
      "132/132 [==============================] - 0s 2ms/step - loss: 0.1239 - accuracy: 0.9581 - val_loss: 0.7298 - val_accuracy: 0.8276\n",
      "Epoch 36/50\n",
      "132/132 [==============================] - 0s 2ms/step - loss: 0.1255 - accuracy: 0.9540 - val_loss: 0.7108 - val_accuracy: 0.8400\n",
      "Epoch 37/50\n",
      "132/132 [==============================] - 0s 2ms/step - loss: 0.1021 - accuracy: 0.9621 - val_loss: 0.6952 - val_accuracy: 0.8410\n",
      "Epoch 38/50\n",
      "132/132 [==============================] - 0s 2ms/step - loss: 0.1049 - accuracy: 0.9612 - val_loss: 0.8213 - val_accuracy: 0.8333\n",
      "Epoch 39/50\n",
      "132/132 [==============================] - 0s 2ms/step - loss: 0.1299 - accuracy: 0.9538 - val_loss: 0.6846 - val_accuracy: 0.8419\n",
      "Epoch 40/50\n",
      "132/132 [==============================] - 0s 2ms/step - loss: 0.0922 - accuracy: 0.9667 - val_loss: 0.7283 - val_accuracy: 0.8476\n",
      "Epoch 41/50\n",
      "132/132 [==============================] - 0s 2ms/step - loss: 0.0636 - accuracy: 0.9769 - val_loss: 0.8843 - val_accuracy: 0.8238\n",
      "Epoch 42/50\n",
      "132/132 [==============================] - 0s 2ms/step - loss: 0.1090 - accuracy: 0.9629 - val_loss: 0.7707 - val_accuracy: 0.8352\n",
      "Epoch 43/50\n",
      "132/132 [==============================] - 0s 2ms/step - loss: 0.0938 - accuracy: 0.9636 - val_loss: 0.7830 - val_accuracy: 0.8486\n",
      "Epoch 44/50\n",
      "132/132 [==============================] - 0s 2ms/step - loss: 0.0619 - accuracy: 0.9743 - val_loss: 0.7615 - val_accuracy: 0.8381\n",
      "Epoch 45/50\n",
      "132/132 [==============================] - 0s 2ms/step - loss: 0.0579 - accuracy: 0.9781 - val_loss: 0.8432 - val_accuracy: 0.8381\n",
      "Epoch 46/50\n",
      "132/132 [==============================] - 0s 2ms/step - loss: 0.0927 - accuracy: 0.9683 - val_loss: 0.7575 - val_accuracy: 0.8467\n",
      "Epoch 47/50\n",
      "132/132 [==============================] - 0s 2ms/step - loss: 0.0739 - accuracy: 0.9721 - val_loss: 0.8524 - val_accuracy: 0.8552\n",
      "Epoch 48/50\n",
      "132/132 [==============================] - 0s 2ms/step - loss: 0.1053 - accuracy: 0.9664 - val_loss: 0.7724 - val_accuracy: 0.8419\n",
      "Epoch 49/50\n",
      "132/132 [==============================] - 0s 2ms/step - loss: 0.0735 - accuracy: 0.9740 - val_loss: 0.8456 - val_accuracy: 0.8486\n",
      "Epoch 50/50\n",
      "132/132 [==============================] - 0s 2ms/step - loss: 0.0645 - accuracy: 0.9776 - val_loss: 1.0827 - val_accuracy: 0.8086\n"
     ]
    }
   ],
   "source": [
    "# ベストエポックを保存\n",
    "checkpoint_filepath = \"C://Users/human/Downloads/fashion_checkpoint\"\n",
    "model_checkpoint_callback = tf.keras.callbacks.ModelCheckpoint(\n",
    "    filepath=checkpoint_filepath,\n",
    "    monitor=\"val_accuracy\",\n",
    "    mode=\"max\",\n",
    "    save_best_only=True\n",
    ")\n",
    "\n",
    "best_mlp_model = mlp_tuner.hypermodel.build(best_hps)\n",
    "mlp_history = best_mlp_model.fit(train_x, train_y, epochs=50, validation_split=0.2, callbacks=[model_checkpoint_callback])"
   ]
  },
  {
   "cell_type": "code",
   "execution_count": 14,
   "metadata": {},
   "outputs": [
    {
     "data": {
      "image/png": "[encoded data removed]",
      "text/plain": [
       "<IPython.core.display.Image object>"
      ]
     },
     "execution_count": 14,
     "metadata": {},
     "output_type": "execute_result"
    }
   ],
   "source": [
    "# モデルを描画\n",
    "tf.keras.utils.plot_model(\n",
    "    best_mlp_model, \n",
    "    show_shapes=True, \n",
    "    show_layer_names=False, \n",
    "    show_layer_activations=True\n",
    ")"
   ]
  },
  {
   "cell_type": "code",
   "execution_count": 15,
   "metadata": {},
   "outputs": [
    {
     "name": "stdout",
     "output_type": "stream",
     "text": [
      "Model: \"sequential_1\"\n",
      "_________________________________________________________________\n",
      " Layer (type)                Output Shape              Param #   \n",
      "=================================================================\n",
      " flatten_1 (Flatten)         (None, 784)               0         \n",
      "                                                                 \n",
      " dense_3 (Dense)             (None, 96)                75360     \n",
      "                                                                 \n",
      " dense_4 (Dense)             (None, 96)                9312      \n",
      "                                                                 \n",
      " dense_5 (Dense)             (None, 96)                9312      \n",
      "                                                                 \n",
      " dense_6 (Dense)             (None, 96)                9312      \n",
      "                                                                 \n",
      " dense_7 (Dense)             (None, 10)                970       \n",
      "                                                                 \n",
      "=================================================================\n",
      "Total params: 104266 (407.29 KB)\n",
      "Trainable params: 104266 (407.29 KB)\n",
      "Non-trainable params: 0 (0.00 Byte)\n",
      "_________________________________________________________________\n"
     ]
    }
   ],
   "source": [
    "best_epoch_model = tf.keras.models.load_model(checkpoint_filepath)\n",
    "best_epoch_model.summary()"
   ]
  },
  {
   "cell_type": "code",
   "execution_count": 23,
   "metadata": {},
   "outputs": [
    {
     "name": "stdout",
     "output_type": "stream",
     "text": [
      "55/55 [==============================] - 0s 2ms/step\n",
      "\n",
      "~~~~~~~~~~~~~~~~~~~~\n",
      "\n",
      "Test accuracy: 0.84\n",
      "\n",
      "~~~~~~~~~~~~~~~~~~~~\n",
      "\n"
     ]
    }
   ],
   "source": [
    "pred_y = best_epoch_model.predict(test_x)\n",
    "pred_y = np.round(pred_y).astype(int)\n",
    "\n",
    "@add_print(\"~\", 20)\n",
    "def print_accuracy():\n",
    "    print(\"Test accuracy:\", accuracy_score(pred_y, test_y))\n",
    "print_accuracy()"
   ]
  },
  {
   "cell_type": "code",
   "execution_count": null,
   "metadata": {},
   "outputs": [],
   "source": []
  }
 ],
 "metadata": {
  "kernelspec": {
   "display_name": "env",
   "language": "python",
   "name": "python3"
  },
  "language_info": {
   "codemirror_mode": {
    "name": "ipython",
    "version": 3
   },
   "file_extension": ".py",
   "mimetype": "text/x-python",
   "name": "python",
   "nbconvert_exporter": "python",
   "pygments_lexer": "ipython3",
   "version": "3.9.9"
  }
 },
 "nbformat": 4,
 "nbformat_minor": 2
}
